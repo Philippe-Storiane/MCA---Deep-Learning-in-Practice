{
  "nbformat": 4,
  "nbformat_minor": 0,
  "metadata": {
    "kernelspec": {
      "display_name": "Python 3",
      "language": "python",
      "name": "python3"
    },
    "language_info": {
      "codemirror_mode": {
        "name": "ipython",
        "version": 3
      },
      "file_extension": ".py",
      "mimetype": "text/x-python",
      "name": "python",
      "nbconvert_exporter": "python",
      "pygments_lexer": "ipython3",
      "version": "3.7.9"
    },
    "colab": {
      "name": "TP1_Ex2_Multiclass.ipynb",
      "provenance": []
    },
    "accelerator": "GPU"
  },
  "cells": [
    {
      "cell_type": "markdown",
      "metadata": {
        "id": "eLdL4qIuFqO_"
      },
      "source": [
        "## Multi-classification problem\n",
        "\n",
        "__Note:__ you might need to do\n",
        "`conda install torchvision \"pillow<7\"`\n",
        "if torchvision is not already installed on your computer, and/or for compatibility issues (the version of torchvision version supporting the last version of Pillow is not released yet)."
      ]
    },
    {
      "cell_type": "code",
      "metadata": {
        "id": "F782b9l4FqPE"
      },
      "source": [
        "import torch\n",
        "import torch.nn as nn\n",
        "import torch.nn.functional as F\n",
        "import torchvision\n",
        "import torchvision.transforms as transforms\n",
        "from torch.utils.data import DataLoader, random_split\n",
        "import requests\n",
        "import os\n",
        "\n",
        "\n",
        "import matplotlib.pyplot as plt\n",
        "\n",
        "%matplotlib inline"
      ],
      "execution_count": 656,
      "outputs": []
    },
    {
      "cell_type": "markdown",
      "metadata": {
        "id": "sHg77lw7FqPF"
      },
      "source": [
        "### USPS Dataset\n",
        "* Handwritten digits with 10 classes\n",
        "* 16x16 pixels for each image \n",
        "* 6 000 data examples in training set, 1 291 examples in validation set, 2 007 in test set"
      ]
    },
    {
      "cell_type": "code",
      "metadata": {
        "colab": {
          "base_uri": "https://localhost:8080/"
        },
        "id": "N4IrTR_-FqPF",
        "outputId": "7844494d-4ddf-42ef-b813-b74aabaff89a"
      },
      "source": [
        "url = 'https://www.csie.ntu.edu.tw/~cjlin/libsvmtools/datasets/multiclass/usps.bz2'\n",
        "r = requests.get(url, allow_redirects=True)\n",
        "if not os.path.isdir('USPS/'):\n",
        "    os.mkdir('USPS/')\n",
        "open('USPS/usps.bz2', 'wb').write(r.content)"
      ],
      "execution_count": 657,
      "outputs": [
        {
          "output_type": "execute_result",
          "data": {
            "text/plain": [
              "6579383"
            ]
          },
          "metadata": {
            "tags": []
          },
          "execution_count": 657
        }
      ]
    },
    {
      "cell_type": "code",
      "metadata": {
        "id": "CXtfVVcnFqPG"
      },
      "source": [
        "# Loading USPS dataset from torchvision.dataset\n",
        "dataset = torchvision.datasets.USPS(root='USPS/',\n",
        "                                           train=True, \n",
        "                                           transform=transforms.ToTensor(),\n",
        "                                           download=False)"
      ],
      "execution_count": 658,
      "outputs": []
    },
    {
      "cell_type": "code",
      "metadata": {
        "id": "eEOsCkToFqPH"
      },
      "source": [
        "# split the dataset to training and validation sets\n",
        "train_set, val_set = random_split(dataset, [6000, 1291])"
      ],
      "execution_count": 659,
      "outputs": []
    },
    {
      "cell_type": "code",
      "metadata": {
        "colab": {
          "base_uri": "https://localhost:8080/",
          "height": 298
        },
        "id": "a-pFRMdvFqPH",
        "outputId": "06a494c8-7ac4-403f-dde3-c077b5bf462e"
      },
      "source": [
        "sample_index = 88\n",
        "\n",
        "plt.imshow(dataset.data[sample_index], cmap=plt.cm.gray_r, interpolation='nearest')\n",
        "plt.title(\"image label: %d\" % dataset.targets[sample_index])"
      ],
      "execution_count": 660,
      "outputs": [
        {
          "output_type": "execute_result",
          "data": {
            "text/plain": [
              "Text(0.5, 1.0, 'image label: 9')"
            ]
          },
          "metadata": {
            "tags": []
          },
          "execution_count": 660
        },
        {
          "output_type": "display_data",
          "data": {
            "image/png": "[encoded data removed]",
            "text/plain": [
              "<Figure size 432x288 with 1 Axes>"
            ]
          },
          "metadata": {
            "tags": [],
            "needs_background": "light"
          }
        }
      ]
    },
    {
      "cell_type": "markdown",
      "metadata": {
        "id": "neIQ4OAMFqPH"
      },
      "source": [
        "### Training the neural network"
      ]
    },
    {
      "cell_type": "code",
      "metadata": {
        "id": "EwM46oyiFqPH"
      },
      "source": [
        "class Model(nn.Module):\n",
        "    \n",
        "    def __init__(self):\n",
        "        super(Model, self).__init__()\n",
        "        \n",
        "        self.c1 = nn.Conv2d(1,6, 5) # Convolution kernel 6 layer size 5, stride 1\n",
        "        self.c2 = nn.Conv2d(6,16, 5) # Convolution kernel 16 layer size 5, stride 1\n",
        "        #self.c3 = nn.Conv2d(16,32, 5) # Convolution kernel 16 layer size 5, stride 1\n",
        "        # self.l1 = nn.Linear(16 * 12 * 12, 120)\n",
        "        self.l1 = nn.Linear(16 * 8 * 8, 120)\n",
        "        self.l2 = nn.Linear(120, 10)\n",
        "        #self.l3 = nn.Linear(84, 64)\n",
        "        #self.l3 = nn.Linear(84, 10)\n",
        "        #self.l3 = nn.Linear(84, 10)\n",
        "        \n",
        "        \n",
        "    def forward(self, inputs):\n",
        "        h1 = F.relu(self.c1(inputs))\n",
        "        h2 = F.relu(self.c2(h1))\n",
        "        #h2 = F.relu(self.c3(h2))\n",
        "        #print(h1.shape)\n",
        "        #h3 = F.relu(self.l1(h2.view(h2.shape[0],-1)))\n",
        "        #h3 = F.relu(self.l1(h1.view(h1.shape[0],-1)))\n",
        "        h3 = h2.view(h2.shape[0],-1)\n",
        "        h4 = F.relu(self.l1(h3))\n",
        "        #h5 = F.relu(self.l2(h4))\n",
        "        #outputs = F.softmax(self.l3(h5), dim=1)# Use softmax as the activation function for the last layer\n",
        "        #outputs = F.softmax(self.l4(h5), dim=1)# Use softmax as the activation function for the last layer\n",
        "        #outputs = F.softmax(self.l1(h3), dim=1)# Use softmax as the activation function for the last layer\n",
        "        outputs = F.softmax(self.l2(h4), dim=1)\n",
        "\n",
        "        return outputs"
      ],
      "execution_count": 661,
      "outputs": []
    },
    {
      "cell_type": "code",
      "metadata": {
        "id": "gXnnqDG_FqPI"
      },
      "source": [
        "# Create the model: \n",
        "model = Model()\n",
        "\n",
        "# Choose the hyperparameters for training: \n",
        "num_epochs = 50\n",
        "batch_size = 20\n",
        "\n",
        "# Use mean squared loss function \n",
        "criterion = nn.MSELoss()\n",
        "\n",
        "# Use SGD optimizer with a learning rate of 0.01\n",
        "# It is initialized on our model\n",
        "optimizer = torch.optim.SGD(model.parameters(), lr=0.1)"
      ],
      "execution_count": 662,
      "outputs": []
    },
    {
      "cell_type": "code",
      "metadata": {
        "id": "0z2afEdjFqPI"
      },
      "source": [
        "# define a function for training\n",
        "def train(num_epochs, batch_size, criterion, optimizer, model, dataset):\n",
        "    train_error = []\n",
        "    train_loader = DataLoader(dataset, batch_size, shuffle=True)\n",
        "    model.train()\n",
        "    for epoch in range(num_epochs):\n",
        "        epoch_average_loss = 0.0\n",
        "        for (images, labels) in train_loader:\n",
        "            #y_pre = model(images.view(batch_size, -1))\n",
        "            y_pre = model( images)\n",
        "            #reshape the inputs from [N, img_shape, img_shape] to [N, img_shape*img_shape] \n",
        "            \n",
        "            # One-hot encoding or labels so as to calculate MSE error:\n",
        "            labels_one_hot = torch.FloatTensor(batch_size, 10)\n",
        "            labels_one_hot.zero_()\n",
        "            labels_one_hot.scatter_(1, labels.view(-1, 1), 1)\n",
        "           \n",
        "            \n",
        "            loss = criterion(y_pre, labels_one_hot)\n",
        "            optimizer.zero_grad()\n",
        "            loss.backward()\n",
        "            optimizer.step()\n",
        "            epoch_average_loss += loss.item() * batch_size / len(dataset)\n",
        "        train_error.append(epoch_average_loss)\n",
        "        print('Epoch [{}/{}], Loss: {:.4f}'\n",
        "                      .format(epoch+1, num_epochs, epoch_average_loss))\n",
        "    return train_error"
      ],
      "execution_count": 663,
      "outputs": []
    },
    {
      "cell_type": "code",
      "metadata": {
        "colab": {
          "base_uri": "https://localhost:8080/"
        },
        "id": "hvoKfUOLFqPI",
        "outputId": "2452bb7e-f52c-4997-fe7f-2eeaee680fd8"
      },
      "source": [
        "train_error = train(num_epochs, batch_size, criterion, optimizer, model, train_set)"
      ],
      "execution_count": 664,
      "outputs": [
        {
          "output_type": "stream",
          "text": [
            "Epoch [1/50], Loss: 0.0896\n",
            "Epoch [2/50], Loss: 0.0872\n",
            "Epoch [3/50], Loss: 0.0658\n",
            "Epoch [4/50], Loss: 0.0297\n",
            "Epoch [5/50], Loss: 0.0215\n",
            "Epoch [6/50], Loss: 0.0185\n",
            "Epoch [7/50], Loss: 0.0162\n",
            "Epoch [8/50], Loss: 0.0149\n",
            "Epoch [9/50], Loss: 0.0136\n",
            "Epoch [10/50], Loss: 0.0125\n",
            "Epoch [11/50], Loss: 0.0118\n",
            "Epoch [12/50], Loss: 0.0108\n",
            "Epoch [13/50], Loss: 0.0102\n",
            "Epoch [14/50], Loss: 0.0095\n",
            "Epoch [15/50], Loss: 0.0091\n",
            "Epoch [16/50], Loss: 0.0088\n",
            "Epoch [17/50], Loss: 0.0084\n",
            "Epoch [18/50], Loss: 0.0077\n",
            "Epoch [19/50], Loss: 0.0076\n",
            "Epoch [20/50], Loss: 0.0073\n",
            "Epoch [21/50], Loss: 0.0072\n",
            "Epoch [22/50], Loss: 0.0068\n",
            "Epoch [23/50], Loss: 0.0065\n",
            "Epoch [24/50], Loss: 0.0064\n",
            "Epoch [25/50], Loss: 0.0061\n",
            "Epoch [26/50], Loss: 0.0058\n",
            "Epoch [27/50], Loss: 0.0057\n",
            "Epoch [28/50], Loss: 0.0055\n",
            "Epoch [29/50], Loss: 0.0052\n",
            "Epoch [30/50], Loss: 0.0050\n",
            "Epoch [31/50], Loss: 0.0048\n",
            "Epoch [32/50], Loss: 0.0048\n",
            "Epoch [33/50], Loss: 0.0046\n",
            "Epoch [34/50], Loss: 0.0044\n",
            "Epoch [35/50], Loss: 0.0044\n",
            "Epoch [36/50], Loss: 0.0041\n",
            "Epoch [37/50], Loss: 0.0041\n",
            "Epoch [38/50], Loss: 0.0038\n",
            "Epoch [39/50], Loss: 0.0038\n",
            "Epoch [40/50], Loss: 0.0035\n",
            "Epoch [41/50], Loss: 0.0035\n",
            "Epoch [42/50], Loss: 0.0034\n",
            "Epoch [43/50], Loss: 0.0031\n",
            "Epoch [44/50], Loss: 0.0030\n",
            "Epoch [45/50], Loss: 0.0030\n",
            "Epoch [46/50], Loss: 0.0029\n",
            "Epoch [47/50], Loss: 0.0028\n",
            "Epoch [48/50], Loss: 0.0027\n",
            "Epoch [49/50], Loss: 0.0027\n",
            "Epoch [50/50], Loss: 0.0025\n"
          ],
          "name": "stdout"
        }
      ]
    },
    {
      "cell_type": "code",
      "metadata": {
        "colab": {
          "base_uri": "https://localhost:8080/",
          "height": 314
        },
        "id": "_s63_gSkFqPJ",
        "outputId": "d08ce2f8-2313-4a42-f4e4-58c82a4d8be9"
      },
      "source": [
        "# plot the training error wrt. the number of epochs: \n",
        "plt.plot(range(1, num_epochs+1), train_error)\n",
        "plt.xlabel(\"num_epochs\")\n",
        "plt.ylabel(\"Train error\")\n",
        "plt.title(\"Visualization of convergence\")"
      ],
      "execution_count": 665,
      "outputs": [
        {
          "output_type": "execute_result",
          "data": {
            "text/plain": [
              "Text(0.5, 1.0, 'Visualization of convergence')"
            ]
          },
          "metadata": {
            "tags": []
          },
          "execution_count": 665
        },
        {
          "output_type": "display_data",
          "data": {
            "image/png": "[encoded data removed]",
            "text/plain": [
              "<Figure size 432x288 with 1 Axes>"
            ]
          },
          "metadata": {
            "tags": [],
            "needs_background": "light"
          }
        }
      ]
    },
    {
      "cell_type": "markdown",
      "metadata": {
        "id": "_5E_A0kUFqPJ"
      },
      "source": [
        "### Evaluate the Model on validation set"
      ]
    },
    {
      "cell_type": "code",
      "metadata": {
        "id": "sWX3JqueFqPJ"
      },
      "source": [
        "# Calculate the accuracy to evaluate the model\n",
        "def accuracy(dataset, model):\n",
        "\n",
        "    with torch.no_grad():\n",
        "        correct = 0\n",
        "        total = 0\n",
        "        dataloader = DataLoader(dataset)\n",
        "        for images, labels in dataloader:\n",
        "            #images = images.view(-1, 16*16)\n",
        "            outputs = model(images)\n",
        "            _, predicted = torch.max(outputs.data, 1) \n",
        "            correct += (predicted == labels).sum()\n",
        "\n",
        "    print('Accuracy of the model : {:.2f} %'.format(100*correct.item()/ len(dataset)))"
      ],
      "execution_count": 666,
      "outputs": []
    },
    {
      "cell_type": "code",
      "metadata": {
        "id": "reJ3JL8PFqPJ",
        "colab": {
          "base_uri": "https://localhost:8080/"
        },
        "outputId": "fae879d9-6ba0-41e3-82ba-d6441e06ddc3"
      },
      "source": [
        "accuracy(val_set, model)"
      ],
      "execution_count": 667,
      "outputs": [
        {
          "output_type": "stream",
          "text": [
            "Accuracy of the model : 97.13 %\n"
          ],
          "name": "stdout"
        }
      ]
    },
    {
      "cell_type": "code",
      "metadata": {
        "colab": {
          "base_uri": "https://localhost:8080/",
          "height": 316
        },
        "id": "l1LRhRd3FqPK",
        "outputId": "9d1a625b-5e01-40cd-aff5-47eeffcceb0e"
      },
      "source": [
        "val_index = 66\n",
        "\n",
        "(image, label) = val_set[val_index]\n",
        "print(image.unsqueeze(1).shape)\n",
        "output = model( image.unsqueeze(1) )\n",
        "\n",
        "#output = model(image.view(-1, 16*16))\n",
        "_, prediction = torch.max(output.data, 1)\n",
        "\n",
        "plt.imshow(image.view(16, 16), cmap=plt.cm.gray_r, interpolation='nearest')\n",
        "plt.title(\"Prediction label: %d\" % prediction)"
      ],
      "execution_count": 668,
      "outputs": [
        {
          "output_type": "stream",
          "text": [
            "torch.Size([1, 1, 16, 16])\n"
          ],
          "name": "stdout"
        },
        {
          "output_type": "execute_result",
          "data": {
            "text/plain": [
              "Text(0.5, 1.0, 'Prediction label: 3')"
            ]
          },
          "metadata": {
            "tags": []
          },
          "execution_count": 668
        },
        {
          "output_type": "display_data",
          "data": {
            "image/png": "[encoded data removed]",
            "text/plain": [
              "<Figure size 432x288 with 1 Axes>"
            ]
          },
          "metadata": {
            "tags": [],
            "needs_background": "light"
          }
        }
      ]
    },
    {
      "cell_type": "markdown",
      "metadata": {
        "id": "IUtkA28uFqPK"
      },
      "source": [
        "### Exercise 1: Impact of the architecture of the model\n",
        "Define your own class `Model` to improve the predictions:\n",
        "\n",
        "* The convolutional layer can be a good choice to deal with images. Replace nn.Linear with [nn.Conv2d](https://pytorch.org/docs/stable/nn.html#conv2d).\n",
        "* Try to add more layers (1, 2, 3, more ?)\n",
        "* Change the number of neurons in hidden layers (5, 10, 20, more ?)\n",
        "* Try different activation functions such as [sigmoid](https://pytorch.org/docs/stable/nn.functional.html#torch.nn.functional.sigmoid), [tanh](https://pytorch.org/docs/stable/nn.functional.html#torch.nn.functional.tanh), [relu](https://pytorch.org/docs/stable/nn.functional.html#torch.nn.functional.relu), etc."
      ]
    },
    {
      "cell_type": "markdown",
      "metadata": {
        "id": "YbNt2gKoFqPK"
      },
      "source": [
        "### Exercise 2: Impact of the optimizer\n",
        "Retrain the model by using different parameters of the optimizer; you can change its parameters in the cell initializing it, after the definition of your model.\n",
        "\n",
        "* Use different batch sizes, from 10 to 1 000 for instance\n",
        "* Try different values of the learning rate (between 0.001 and 10), and see how these impact the training process. Do all network architectures react the same way to different learning rates?\n",
        "* Change the duration of the training by increasing the number of epochs\n",
        "* Try other optimizers, such as [Adam](https://pytorch.org/docs/stable/optim.html?highlight=adam#torch.optim.Adam) or [RMSprop](https://pytorch.org/docs/stable/optim.html?highlight=rmsprop#torch.optim.RMSprop)"
      ]
    },
    {
      "cell_type": "markdown",
      "metadata": {
        "id": "5Jyriq7bFqPL"
      },
      "source": [
        "### Exercise 3: Impact of the loss function\n",
        "The MSE error is rarely used in this case. The cross entropy loss can be a better choice for multi-classification problems. In pytorch, the cross entropy loss is defined by [nn.CrossEntropyLoss](https://pytorch.org/docs/stable/nn.html#crossentropyloss). Replace the MSE loss by this one to observe its impact.\n",
        "\n",
        "**Note:** In order to use nn.CrossEntropyLoss correctly, don't add an activation function to the last layer of your network. And one-hot encoding is no longer needed to calculate the loss, delete the encoding procedures in function `train`.   "
      ]
    },
    {
      "cell_type": "markdown",
      "metadata": {
        "id": "F8Ad1pt9FqPL"
      },
      "source": [
        "### Exercise 4: Prediction on test set\n",
        "\n",
        "Once you have a model that seems satisfying on the validation dataset, you SHOULD evaluate it on a test dataset that has never been used before, to obtain a final accuracy value."
      ]
    },
    {
      "cell_type": "code",
      "metadata": {
        "colab": {
          "base_uri": "https://localhost:8080/"
        },
        "id": "5f2-27WuFqPL",
        "outputId": "185ed950-4eb2-4f7b-c2eb-c2985e406869"
      },
      "source": [
        "url = 'http://www.csie.ntu.edu.tw/~cjlin/libsvmtools/datasets/multiclass/usps.t.bz2'\n",
        "r = requests.get(url, allow_redirects=True)\n",
        "open('USPS/usps.t.bz2', 'wb').write(r.content)"
      ],
      "execution_count": 669,
      "outputs": [
        {
          "output_type": "execute_result",
          "data": {
            "text/plain": [
              "1831726"
            ]
          },
          "metadata": {
            "tags": []
          },
          "execution_count": 669
        }
      ]
    },
    {
      "cell_type": "code",
      "metadata": {
        "id": "n9wCPWKJFqPL"
      },
      "source": [
        "# Loading MNIST test set from torchvision.dataset\n",
        "test_set = torchvision.datasets.USPS(root='USPS/',\n",
        "                                         train=False,\n",
        "                                         transform=transforms.ToTensor(),\n",
        "                                         download=False)"
      ],
      "execution_count": 670,
      "outputs": []
    },
    {
      "cell_type": "code",
      "metadata": {
        "colab": {
          "base_uri": "https://localhost:8080/"
        },
        "id": "u-N948KuFqPM",
        "outputId": "5b0af397-f3b5-42ce-952d-b4cba4bbdfd0"
      },
      "source": [
        "accuracy(test_set, model)"
      ],
      "execution_count": 671,
      "outputs": [
        {
          "output_type": "stream",
          "text": [
            "Accuracy of the model : 93.67 %\n"
          ],
          "name": "stdout"
        }
      ]
    },
    {
      "cell_type": "code",
      "metadata": {
        "colab": {
          "base_uri": "https://localhost:8080/"
        },
        "id": "SRibv_mdFqPM",
        "outputId": "9678f215-4d74-4fc8-f3a4-7b87141a9e75"
      },
      "source": [
        "model"
      ],
      "execution_count": 672,
      "outputs": [
        {
          "output_type": "execute_result",
          "data": {
            "text/plain": [
              "Model(\n",
              "  (c1): Conv2d(1, 6, kernel_size=(5, 5), stride=(1, 1))\n",
              "  (c2): Conv2d(6, 16, kernel_size=(5, 5), stride=(1, 1))\n",
              "  (l1): Linear(in_features=1024, out_features=120, bias=True)\n",
              "  (l2): Linear(in_features=120, out_features=10, bias=True)\n",
              ")"
            ]
          },
          "metadata": {
            "tags": []
          },
          "execution_count": 672
        }
      ]
    }
  ]
}